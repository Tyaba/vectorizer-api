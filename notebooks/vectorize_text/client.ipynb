{
 "cells": [
  {
   "cell_type": "code",
   "execution_count": 1,
   "metadata": {},
   "outputs": [
    {
     "name": "stdout",
     "output_type": "stream",
     "text": [
      "/home/yoshino_teppei/ghq/github.com/Tyaba/vectorizer-api\n",
      "/home/yoshino_teppei/ghq/github.com/Tyaba/vectorizer-api\n"
     ]
    }
   ],
   "source": [
    "from vectorizer_api.utils.file import get_project_dir\n",
    "\n",
    "%cd {get_project_dir()}\n",
    "print(get_project_dir())"
   ]
  },
  {
   "cell_type": "code",
   "execution_count": 5,
   "metadata": {},
   "outputs": [],
   "source": [
    "import requests\n",
    "\n",
    "from vectorizer_api.domain.factory.vectorizer_factory import VectorizerType\n",
    "from vectorizer_api.usecase.ui.vectorizer import (\n",
    "    VectorizeRequest,\n",
    ")"
   ]
  },
  {
   "cell_type": "code",
   "execution_count": 6,
   "metadata": {},
   "outputs": [],
   "source": [
    "endpoint_url = \"http://localhost:8080\"\n",
    "vectorize_url = f\"{endpoint_url}/vectorize\""
   ]
  },
  {
   "cell_type": "code",
   "execution_count": 7,
   "metadata": {},
   "outputs": [],
   "source": [
    "text = \"今日もいい日だ\"\n",
    "vectorize_request = VectorizeRequest(\n",
    "    vectorizer_type=VectorizerType.SENTENCE_BERT,\n",
    "    texts=[text],\n",
    ")"
   ]
  },
  {
   "cell_type": "code",
   "execution_count": 8,
   "metadata": {},
   "outputs": [
    {
     "name": "stdout",
     "output_type": "stream",
     "text": [
      "<class 'dict'>\n",
      "{'vectorizer_type': 'sentence_bert', 'texts': ['今日もいい日だ'], 'images': None}\n"
     ]
    }
   ],
   "source": [
    "vectorize_request_data = vectorize_request.model_dump()\n",
    "print(type(vectorize_request_data))\n",
    "print(vectorize_request_data)"
   ]
  },
  {
   "cell_type": "code",
   "execution_count": 9,
   "metadata": {},
   "outputs": [],
   "source": [
    "response = requests.post(vectorize_url, json=vectorize_request_data, timeout=120)"
   ]
  },
  {
   "cell_type": "code",
   "execution_count": null,
   "metadata": {},
   "outputs": [
    {
     "data": {
      "text/plain": [
       "(1, 768)"
      ]
     },
     "execution_count": 11,
     "metadata": {},
     "output_type": "execute_result"
    }
   ],
   "source": [
    "import numpy as np\n",
    "\n",
    "np.array(response.json()[\"vectors\"]).shape"
   ]
  },
  {
   "cell_type": "code",
   "execution_count": null,
   "metadata": {},
   "outputs": [],
   "source": []
  }
 ],
 "metadata": {
  "kernelspec": {
   "display_name": ".venv",
   "language": "python",
   "name": "python3"
  },
  "language_info": {
   "codemirror_mode": {
    "name": "ipython",
    "version": 3
   },
   "file_extension": ".py",
   "mimetype": "text/x-python",
   "name": "python",
   "nbconvert_exporter": "python",
   "pygments_lexer": "ipython3",
   "version": "3.11.7"
  }
 },
 "nbformat": 4,
 "nbformat_minor": 2
}
